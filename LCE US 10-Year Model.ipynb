{
 "cells": [
  {
   "cell_type": "code",
   "execution_count": 1,
   "metadata": {},
   "outputs": [
    {
     "ename": "ModuleNotFoundError",
     "evalue": "No module named 'lcensemble'",
     "output_type": "error",
     "traceback": [
      "\u001b[1;31m---------------------------------------------------------------------------\u001b[0m",
      "\u001b[1;31mModuleNotFoundError\u001b[0m                       Traceback (most recent call last)",
      "Cell \u001b[1;32mIn[1], line 1\u001b[0m\n\u001b[1;32m----> 1\u001b[0m \u001b[38;5;28;01mfrom\u001b[39;00m \u001b[38;5;21;01mlcensemble\u001b[39;00m \u001b[38;5;28;01mimport\u001b[39;00m LocalCascadeEnsemble\n\u001b[0;32m      2\u001b[0m \u001b[38;5;28;01mimport\u001b[39;00m \u001b[38;5;21;01mpandas\u001b[39;00m \u001b[38;5;28;01mas\u001b[39;00m \u001b[38;5;21;01mpd\u001b[39;00m\n\u001b[0;32m      3\u001b[0m \u001b[38;5;28;01mimport\u001b[39;00m \u001b[38;5;21;01mnumpy\u001b[39;00m \u001b[38;5;28;01mas\u001b[39;00m \u001b[38;5;21;01mnp\u001b[39;00m\n",
      "\u001b[1;31mModuleNotFoundError\u001b[0m: No module named 'lcensemble'"
     ]
    }
   ],
   "source": [
    "from lcensemble import LocalCascadeEnsemble\n",
    "import pandas as pd\n",
    "import numpy as np\n",
    "import matplotlib.pyplot as plt\n",
    "import matplotlib.dates as mdates\n",
    "from sklearn.model_selection import TimeSeriesSplit, GridSearchCV, train_test_split, cross_val_score\n",
    "from sklearn.tree import DecisionTreeRegressor,plot_tree\n",
    "from sklearn.metrics import mean_squared_error, r2_score\n",
    "from fredapi import Fred\n",
    "import datetime\n",
    "import joblib\n",
    "\n",
    "# Initialize FRED API\n",
    "fred = Fred(api_key='8445855393be6d75a6d33bcddffc7958')\n"
   ]
  },
  {
   "cell_type": "code",
   "execution_count": null,
   "metadata": {},
   "outputs": [],
   "source": [
    "\n",
    "# Define the series IDs for the required data \n",
    "series_ids = {\n",
    "    '5-Year, 5-Year Forward Inflation Expectation Rate': 'T5YIFR',\n",
    "    '1 Year Treasury Rate': 'DGS1',\n",
    "    'fed_balance_sheet_assets': 'WALCL',\n",
    "    'gdp': 'GDP',\n",
    "    'Summary of Economic Projections: Longer-Term Federal Funds Rate': 'FEDTARMDLR',\n",
    "    'US 10yr': 'DGS10',\n",
    "    'RRP': \"WLRRAL\",\n",
    "    'US Treasury General Account' : 'D2WLTGAL'\n",
    "}\n",
    "\n",
    "# Fetch the data starting from 11/8/2021\n",
    "start_date = '2012-01-03'\n",
    "\n",
    "# Download data and store in a dictionary\n",
    "data = {name: fred.get_series(series_id, observation_start=start_date) for name, series_id in series_ids.items()}\n",
    "\n",
    "# Convert the dictionary to a DataFrame\n",
    "df = pd.DataFrame(data)\n",
    "\n",
    "# Resample the monthly GDP to daily frequency using forward fill method\n",
    "df = df.ffill()\n",
    "\n",
    "# Calculate the Fed Balance Sheet Assets to GDP ratio\n",
    "df['Fed BS Assets to GDP'] = df['fed_balance_sheet_assets'] / (df['gdp'] * 1000)\n",
    "\n",
    "# Calculate Net Liquidity Indicator\n",
    "df['Net Liquidity Indicator'] = df['fed_balance_sheet_assets'] - df['RRP'] - df['US Treasury General Account']\n",
    "\n",
    "# Drop unnecessary columns\n",
    "df = df.drop(['fed_balance_sheet_assets', 'gdp', 'RRP', 'US Treasury General Account'], axis=1)\n",
    "df = df.dropna()\n"
   ]
  },
  {
   "cell_type": "code",
   "execution_count": null,
   "metadata": {},
   "outputs": [],
   "source": [
    "# Calculate percent changes over various time horizons\\n\",\n",
    "time_horizons = [5, 20, 60]\n",
    "for column in df.columns:\n",
    "    if column not in ['Date', 'Target']:\n",
    "        df[f'{column}_pct_change_5'] = df[column].pct_change(periods=5) * 100\n",
    "        df[f'{column}_pct_change_20'] = df[column].pct_change(periods=20) * 100\n",
    "        df[f'{column}_pct_change_60'] = df[column].pct_change(periods=60) * 100"
   ]
  },
  {
   "cell_type": "code",
   "execution_count": null,
   "metadata": {},
   "outputs": [],
   "source": [
    "reg_tree = DecisionTreeRegressor(random_state=42)\n",
    "\n",
    "# Define the target variable and the features\n",
    "df['US 10yr lead'] = df['US 10yr'].shift(-20)\n",
    "df = df.dropna()\n",
    "X = df.drop(columns=['residuals','residual percentile_rank','US 10yr lead'])\n",
    "#X = df.drop(columns=['US 10yr lead'])\n",
    "y = df['US 10yr lead']\n",
    "\n",
    "param_grid = {\n",
    "    'base_estimator__max_depth': [3, 5, 7],\n",
    "    'base_estimator__min_samples_split': [2, 5, 10],\n",
    "    'base_estimator__min_samples_leaf': [1, 2, 4],\n",
    "    'n_estimators': [5, 10, 20],\n",
    "    'cascade_layer_threshold': [0.01, 0.05, 0.1]\n",
    "}"
   ]
  },
  {
   "cell_type": "code",
   "execution_count": null,
   "metadata": {},
   "outputs": [],
   "source": [
    "initial_train_size = int(0.75 * y.shape[0])  # Set your desired initial train size here\n",
    "tscv = TimeSeriesSplit(n_splits=df.shape[0] - initial_train_size, test_size=1)\n"
   ]
  },
  {
   "cell_type": "code",
   "execution_count": null,
   "metadata": {},
   "outputs": [],
   "source": [
    "\n",
    "best_score = float('inf')\n",
    "best_params = None\n",
    "\n",
    "# Initialize a pandas Series to store out-of-sample predictions with the same index as y\n",
    "oof_predictions = pd.Series(index=y.index, dtype=float)\n",
    "\n",
    "# Perform grid search with cross-validation using the LCE model\n",
    "for train_index, test_index in tscv.split(X):\n",
    "    if len(train_index) >= initial_train_size:\n",
    "        X_train, X_test = X.iloc[train_index], X.iloc[test_index]\n",
    "        y_train, y_test = y.iloc[train_index], y.iloc[test_index]\n",
    "        \n",
    "        lce_model = LocalCascadeEnsemble(base_estimator=DecisionTreeRegressor(), random_state=42)\n",
    "        \n",
    "        grid_search = GridSearchCV(estimator=lce_model, param_grid=param_grid, scoring='neg_mean_squared_error', n_jobs=-1)\n",
    "        grid_search.fit(X_train, y_train)\n",
    "        \n",
    "        # Check if the score improved\n",
    "        if grid_search.best_score_ < best_score:\n",
    "            best_score = grid_search.best_score_\n",
    "            best_params = grid_search.best_params_\n",
    "        \n",
    "        # Make predictions on the test set\n",
    "        y_pred = grid_search.predict(X_test)\n",
    "        \n",
    "        # Store the predictions in the corresponding indices using iloc\n",
    "        oof_predictions.iloc[test_index] = y_pred\n",
    "\n",
    "# Fit the final LCE model with the best hyperparameters\n",
    "best_tree = LocalCascadeEnsemble(base_estimator=DecisionTreeRegressor(**best_params), random_state=42)\n",
    "best_tree.fit(X, y)\n",
    "\n",
    "print(\"Best hyperparameters:\", best_params)\n"
   ]
  }
 ],
 "metadata": {
  "kernelspec": {
   "display_name": "Python 3",
   "language": "python",
   "name": "python3"
  },
  "language_info": {
   "codemirror_mode": {
    "name": "ipython",
    "version": 3
   },
   "file_extension": ".py",
   "mimetype": "text/x-python",
   "name": "python",
   "nbconvert_exporter": "python",
   "pygments_lexer": "ipython3",
   "version": "3.12.7"
  }
 },
 "nbformat": 4,
 "nbformat_minor": 2
}
