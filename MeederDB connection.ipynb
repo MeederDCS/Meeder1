{
 "cells": [
  {
   "cell_type": "code",
   "execution_count": 2,
   "metadata": {},
   "outputs": [],
   "source": [
    "import pyodbc\n",
    "\n",
    " \n",
    "# Define the connection string\n",
    "conn_str = (\n",
    "    'DRIVER={SQL Server};'\n",
    "    'SERVER=meederinvest;'\n",
    "    'DATABASE=InvestmentDB;'\n",
    "    'Trusted_Connection=yes;'\n",
    ")\n",
    " \n",
    "# Connect to the SQL Server database\n",
    "conn = pyodbc.connect(conn_str)"
   ]
  },
  {
   "cell_type": "code",
   "execution_count": 3,
   "metadata": {},
   "outputs": [
    {
     "data": {
      "text/plain": [
       "<pyodbc.Cursor at 0x24952456eb0>"
      ]
     },
     "execution_count": 3,
     "metadata": {},
     "output_type": "execute_result"
    }
   ],
   "source": [
    "query = \"\"\"\n",
    "SELECT TOP (1000) [ID]\n",
    "      ,[PortfolioID]\n",
    "      ,[PortfolioName]\n",
    "      ,[MorningstarPortfolioID]\n",
    "      ,[Attribute]\n",
    "      ,[Ticker]\n",
    "      ,[Value]\n",
    "  FROM [InvestmentDB].[dbo].[MorningstarYchartsData]\n",
    "\"\"\"\n",
    " \n",
    "# Execute the query\n",
    "cursor = conn.cursor()\n",
    "cursor.execute(query)"
   ]
  },
  {
   "cell_type": "code",
   "execution_count": 4,
   "metadata": {},
   "outputs": [],
   "source": [
    "# Fetch all results from the executed query\n",
    "records = cursor.fetchall()"
   ]
  },
  {
   "cell_type": "code",
   "execution_count": 5,
   "metadata": {},
   "outputs": [
    {
     "name": "stderr",
     "output_type": "stream",
     "text": [
      "C:\\Users\\dstockman\\AppData\\Local\\Temp\\ipykernel_31988\\2608123677.py:3: UserWarning: pandas only supports SQLAlchemy connectable (engine/connection) or database string URI or sqlite3 DBAPI2 connection. Other DBAPI2 objects are not tested. Please consider using SQLAlchemy.\n",
      "  df = pd.read_sql_query(query, conn)\n"
     ]
    }
   ],
   "source": [
    "import pandas as pd\n",
    "# Read data into a Pandas DataFrame\n",
    "df = pd.read_sql_query(query, conn)"
   ]
  },
  {
   "cell_type": "code",
   "execution_count": 6,
   "metadata": {},
   "outputs": [
    {
     "data": {
      "text/plain": [
       "<bound method NDFrame.tail of        ID  PortfolioID                PortfolioName  \\\n",
       "0       1            1  1 on 1 Financial Aggressive   \n",
       "1       2            1  1 on 1 Financial Aggressive   \n",
       "2       3            1  1 on 1 Financial Aggressive   \n",
       "3       4            1  1 on 1 Financial Aggressive   \n",
       "4       5            1  1 on 1 Financial Aggressive   \n",
       "..    ...          ...                          ...   \n",
       "995   996            1  1 on 1 Financial Aggressive   \n",
       "996   997            1  1 on 1 Financial Aggressive   \n",
       "997   998            1  1 on 1 Financial Aggressive   \n",
       "998   999            1  1 on 1 Financial Aggressive   \n",
       "999  1000            1  1 on 1 Financial Aggressive   \n",
       "\n",
       "          MorningstarPortfolioID   Attribute Ticker      Value  \n",
       "0    1 on 1 Financial Aggressive  2010-05-06  DYGIX  20.000000  \n",
       "1    1 on 1 Financial Aggressive  2010-05-31  DYGIX  22.522677  \n",
       "2    1 on 1 Financial Aggressive  2010-06-30  DYGIX  22.304056  \n",
       "3    1 on 1 Financial Aggressive  2010-07-31  DYGIX  22.199912  \n",
       "4    1 on 1 Financial Aggressive  2010-08-31  DYGIX  22.056661  \n",
       "..                           ...         ...    ...        ...  \n",
       "995  1 on 1 Financial Aggressive  2023-11-30  COSSX   5.478865  \n",
       "996  1 on 1 Financial Aggressive  2023-12-31  COSSX   5.430233  \n",
       "997  1 on 1 Financial Aggressive  2024-01-27  COSSX   5.408163  \n",
       "998  1 on 1 Financial Aggressive  2024-01-29  COSSX   5.408163  \n",
       "999  1 on 1 Financial Aggressive  2010-05-06  GSIMX   7.000000  \n",
       "\n",
       "[1000 rows x 7 columns]>"
      ]
     },
     "execution_count": 6,
     "metadata": {},
     "output_type": "execute_result"
    }
   ],
   "source": [
    "df.tail"
   ]
  },
  {
   "cell_type": "code",
   "execution_count": 10,
   "metadata": {},
   "outputs": [
    {
     "data": {
      "text/plain": [
       "<pyodbc.Cursor at 0x24976d48ab0>"
      ]
     },
     "execution_count": 10,
     "metadata": {},
     "output_type": "execute_result"
    }
   ],
   "source": [
    "query2 = \"\"\"\n",
    "SELECT TOP (10000) [ID]\n",
    "      ,[DataPointName]\n",
    "      ,[DataPointDescription]\n",
    "      ,[RootProvider]\n",
    "      ,[LastUpdate]\n",
    "      ,[FirstAsOfDate]\n",
    "      ,[LastAsOfDate]\n",
    "      ,[UpdateFrequency]\n",
    "      ,[Notes]\n",
    "      ,[Currency]\n",
    "  FROM [MarketData].[dbo].[MeederDataPoints]\n",
    "\"\"\"\n",
    " \n",
    "# Execute the query\n",
    "cursor = conn.cursor()\n",
    "cursor.execute(query2)"
   ]
  },
  {
   "cell_type": "code",
   "execution_count": 11,
   "metadata": {},
   "outputs": [],
   "source": [
    "# Fetch all results from the executed query\n",
    "records = cursor.fetchall()"
   ]
  },
  {
   "cell_type": "code",
   "execution_count": 12,
   "metadata": {},
   "outputs": [
    {
     "name": "stderr",
     "output_type": "stream",
     "text": [
      "C:\\Users\\dstockman\\AppData\\Local\\Temp\\ipykernel_31988\\2749372835.py:2: UserWarning: pandas only supports SQLAlchemy connectable (engine/connection) or database string URI or sqlite3 DBAPI2 connection. Other DBAPI2 objects are not tested. Please consider using SQLAlchemy.\n",
      "  df2 = pd.read_sql_query(query2, conn)\n"
     ]
    }
   ],
   "source": [
    "# Read data into a Pandas DataFrame\n",
    "df2 = pd.read_sql_query(query2, conn)"
   ]
  },
  {
   "cell_type": "code",
   "execution_count": 15,
   "metadata": {},
   "outputs": [
    {
     "data": {
      "text/plain": [
       "<pyodbc.Cursor at 0x24976dcad30>"
      ]
     },
     "execution_count": 15,
     "metadata": {},
     "output_type": "execute_result"
    }
   ],
   "source": [
    "query3 = \"\"\"\n",
    "SELECT TOP (10000) [ID]\n",
    "      ,[DataPointId]\n",
    "      ,[AsOfDate]\n",
    "      ,[DataPointValue]\n",
    "      ,[ProviderId]\n",
    "      ,[ValidationLevel]\n",
    "  FROM [MarketData].[dbo].[MeederDataPointPITs]\n",
    "\"\"\"\n",
    " \n",
    "# Execute the query\n",
    "cursor = conn.cursor()\n",
    "cursor.execute(query3)"
   ]
  },
  {
   "cell_type": "code",
   "execution_count": 16,
   "metadata": {},
   "outputs": [
    {
     "name": "stderr",
     "output_type": "stream",
     "text": [
      "C:\\Users\\dstockman\\AppData\\Local\\Temp\\ipykernel_31988\\3376343527.py:4: UserWarning: pandas only supports SQLAlchemy connectable (engine/connection) or database string URI or sqlite3 DBAPI2 connection. Other DBAPI2 objects are not tested. Please consider using SQLAlchemy.\n",
      "  df3 = pd.read_sql_query(query3, conn)\n"
     ]
    }
   ],
   "source": [
    "# Fetch all results from the executed query\n",
    "records = cursor.fetchall()\n",
    "# Read data into a Pandas DataFrame\n",
    "df3 = pd.read_sql_query(query3, conn)"
   ]
  }
 ],
 "metadata": {
  "kernelspec": {
   "display_name": "Python 3",
   "language": "python",
   "name": "python3"
  },
  "language_info": {
   "codemirror_mode": {
    "name": "ipython",
    "version": 3
   },
   "file_extension": ".py",
   "mimetype": "text/x-python",
   "name": "python",
   "nbconvert_exporter": "python",
   "pygments_lexer": "ipython3",
   "version": "3.12.7"
  }
 },
 "nbformat": 4,
 "nbformat_minor": 2
}
